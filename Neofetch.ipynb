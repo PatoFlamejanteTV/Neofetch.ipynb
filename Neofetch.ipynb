{
  "nbformat": 4,
  "nbformat_minor": 0,
  "metadata": {
    "colab": {
      "provenance": [],
      "authorship_tag": "ABX9TyPuOuQu9gkySfG+Rnfsjd75",
      "include_colab_link": true
    },
    "kernelspec": {
      "name": "python3",
      "display_name": "Python 3"
    },
    "language_info": {
      "name": "python"
    }
  },
  "cells": [
    {
      "cell_type": "markdown",
      "metadata": {
        "id": "view-in-github",
        "colab_type": "text"
      },
      "source": [
        "<a href=\"https://colab.research.google.com/github/PatoFlamejanteTV/Neofetch.ipynb/blob/main/Neofetch.ipynb\" target=\"_parent\"><img src=\"https://colab.research.google.com/assets/colab-badge.svg\" alt=\"Open In Colab\"/></a>"
      ]
    },
    {
      "cell_type": "code",
      "execution_count": null,
      "metadata": {
        "colab": {
          "base_uri": "https://localhost:8080/"
        },
        "id": "B_wk6l9UIusv",
        "outputId": "c494e313-de40-43b2-ebc5-620d0fbe1e7a",
        "cellView": "form"
      },
      "outputs": [
        {
          "output_type": "stream",
          "name": "stdout",
          "text": [
            "Reading package lists... Done\n",
            "Building dependency tree... Done\n",
            "Reading state information... Done\n",
            "neofetch is already the newest version (7.1.0-3).\n",
            "0 upgraded, 0 newly installed, 0 to remove and 29 not upgraded.\n"
          ]
        }
      ],
      "source": [
        "# @title Install `neofetch` before\n",
        "!apt install neofetch"
      ]
    },
    {
      "cell_type": "code",
      "source": [
        "# @title Run `neofetch`\n",
        "!neofetch"
      ],
      "metadata": {
        "colab": {
          "base_uri": "https://localhost:8080/"
        },
        "id": "PULu2vvTdN_O",
        "outputId": "0ac5b8dc-d99d-47d4-9e2e-3ac1a19cf383",
        "cellView": "form"
      },
      "execution_count": 6,
      "outputs": [
        {
          "output_type": "stream",
          "name": "stdout",
          "text": [
            "\u001b[?25l\u001b[?7l\u001b[0m\u001b[31m\u001b[1m            .-/+oossssoo+/-.\n",
            "        `:+ssssssssssssssssss+:`\n",
            "      -+ssssssssssssssssssyyssss+-\n",
            "    .ossssssssssssssssss\u001b[37m\u001b[0m\u001b[1mdMMMNy\u001b[0m\u001b[31m\u001b[1msssso.\n",
            "   /sssssssssss\u001b[37m\u001b[0m\u001b[1mhdmmNNmmyNMMMMh\u001b[0m\u001b[31m\u001b[1mssssss/\n",
            "  +sssssssss\u001b[37m\u001b[0m\u001b[1mhm\u001b[0m\u001b[31m\u001b[1myd\u001b[37m\u001b[0m\u001b[1mMMMMMMMNddddy\u001b[0m\u001b[31m\u001b[1mssssssss+\n",
            " /ssssssss\u001b[37m\u001b[0m\u001b[1mhNMMM\u001b[0m\u001b[31m\u001b[1myh\u001b[37m\u001b[0m\u001b[1mhyyyyhmNMMMNh\u001b[0m\u001b[31m\u001b[1mssssssss/\n",
            ".ssssssss\u001b[37m\u001b[0m\u001b[1mdMMMNh\u001b[0m\u001b[31m\u001b[1mssssssssss\u001b[37m\u001b[0m\u001b[1mhNMMMd\u001b[0m\u001b[31m\u001b[1mssssssss.\n",
            "+ssss\u001b[37m\u001b[0m\u001b[1mhhhyNMMNy\u001b[0m\u001b[31m\u001b[1mssssssssssss\u001b[37m\u001b[0m\u001b[1myNMMMy\u001b[0m\u001b[31m\u001b[1msssssss+\n",
            "oss\u001b[37m\u001b[0m\u001b[1myNMMMNyMMh\u001b[0m\u001b[31m\u001b[1mssssssssssssss\u001b[37m\u001b[0m\u001b[1mhmmmh\u001b[0m\u001b[31m\u001b[1mssssssso\n",
            "oss\u001b[37m\u001b[0m\u001b[1myNMMMNyMMh\u001b[0m\u001b[31m\u001b[1msssssssssssssshmmmh\u001b[0m\u001b[31m\u001b[1mssssssso\n",
            "+ssss\u001b[37m\u001b[0m\u001b[1mhhhyNMMNy\u001b[0m\u001b[31m\u001b[1mssssssssssss\u001b[37m\u001b[0m\u001b[1myNMMMy\u001b[0m\u001b[31m\u001b[1msssssss+\n",
            ".ssssssss\u001b[37m\u001b[0m\u001b[1mdMMMNh\u001b[0m\u001b[31m\u001b[1mssssssssss\u001b[37m\u001b[0m\u001b[1mhNMMMd\u001b[0m\u001b[31m\u001b[1mssssssss.\n",
            " /ssssssss\u001b[37m\u001b[0m\u001b[1mhNMMM\u001b[0m\u001b[31m\u001b[1myh\u001b[37m\u001b[0m\u001b[1mhyyyyhdNMMMNh\u001b[0m\u001b[31m\u001b[1mssssssss/\n",
            "  +sssssssss\u001b[37m\u001b[0m\u001b[1mdm\u001b[0m\u001b[31m\u001b[1myd\u001b[37m\u001b[0m\u001b[1mMMMMMMMMddddy\u001b[0m\u001b[31m\u001b[1mssssssss+\n",
            "   /sssssssssss\u001b[37m\u001b[0m\u001b[1mhdmNNNNmyNMMMMh\u001b[0m\u001b[31m\u001b[1mssssss/\n",
            "    .ossssssssssssssssss\u001b[37m\u001b[0m\u001b[1mdMMMNy\u001b[0m\u001b[31m\u001b[1msssso.\n",
            "      -+sssssssssssssssss\u001b[37m\u001b[0m\u001b[1myyy\u001b[0m\u001b[31m\u001b[1mssss+-\n",
            "        `:+ssssssssssssssssss+:`\n",
            "            .-/+oossssoo+/-.\u001b[0m\n",
            "\u001b[20A\u001b[9999999D\u001b[43C\u001b[0m\u001b[1m\u001b[31m\u001b[1mroot\u001b[0m@\u001b[31m\u001b[1m8cd94968ac89\u001b[0m \n",
            "\u001b[43C\u001b[0m-----------------\u001b[0m \n",
            "\u001b[43C\u001b[0m\u001b[31m\u001b[1mOS\u001b[0m\u001b[0m:\u001b[0m Ubuntu 22.04.4 LTS x86_64\u001b[0m \n",
            "\u001b[43C\u001b[0m\u001b[31m\u001b[1mHost\u001b[0m\u001b[0m:\u001b[0m Google Compute Engine\u001b[0m \n",
            "\u001b[43C\u001b[0m\u001b[31m\u001b[1mKernel\u001b[0m\u001b[0m:\u001b[0m 6.1.85+\u001b[0m \n",
            "\u001b[43C\u001b[0m\u001b[31m\u001b[1mUptime\u001b[0m\u001b[0m:\u001b[0m 19 mins\u001b[0m \n",
            "\u001b[43C\u001b[0m\u001b[31m\u001b[1mPackages\u001b[0m\u001b[0m:\u001b[0m 1329 (dpkg)\u001b[0m \n",
            "\u001b[43C\u001b[0m\u001b[31m\u001b[1mShell\u001b[0m\u001b[0m:\u001b[0m bash 5.1.16\u001b[0m \n",
            "\u001b[43C\u001b[0m\u001b[31m\u001b[1mTerminal\u001b[0m\u001b[0m:\u001b[0m jupyter-noteboo\u001b[0m \n",
            "\u001b[43C\u001b[0m\u001b[31m\u001b[1mCPU\u001b[0m\u001b[0m:\u001b[0m Intel Xeon (2) @ 2.199GHz\u001b[0m \n",
            "\u001b[43C\u001b[0m\u001b[31m\u001b[1mMemory\u001b[0m\u001b[0m:\u001b[0m 845MiB / 12978MiB\u001b[0m \n",
            "\n",
            "\u001b[43C\u001b[30m\u001b[40m   \u001b[31m\u001b[41m   \u001b[32m\u001b[42m   \u001b[33m\u001b[43m   \u001b[34m\u001b[44m   \u001b[35m\u001b[45m   \u001b[36m\u001b[46m   \u001b[37m\u001b[47m   \u001b[m\n",
            "\u001b[43C\u001b[38;5;8m\u001b[48;5;8m   \u001b[38;5;9m\u001b[48;5;9m   \u001b[38;5;10m\u001b[48;5;10m   \u001b[38;5;11m\u001b[48;5;11m   \u001b[38;5;12m\u001b[48;5;12m   \u001b[38;5;13m\u001b[48;5;13m   \u001b[38;5;14m\u001b[48;5;14m   \u001b[38;5;15m\u001b[48;5;15m   \u001b[m\n",
            "\n",
            "\n",
            "\n",
            "\n",
            "\n",
            "\n",
            "\n",
            "\u001b[?25h\u001b[?7h"
          ]
        }
      ]
    },
    {
      "cell_type": "markdown",
      "source": [
        "# Extras!"
      ],
      "metadata": {
        "id": "MjCwGsFxgACv"
      }
    },
    {
      "cell_type": "code",
      "source": [
        "# @title Install & Run `fastfetch` <small>(kinda slow tbh, semi-untested)</small>\n",
        "!pip install wheel\n",
        "!pip install -U hyfetch\n",
        "\n",
        "!hyfetch -p rainbow"
      ],
      "metadata": {
        "colab": {
          "base_uri": "https://localhost:8080/"
        },
        "id": "DIVIWO8ZgB6k",
        "outputId": "f2f369ce-c31f-4920-8ec9-e9ab4d4ffc69"
      },
      "execution_count": 13,
      "outputs": [
        {
          "output_type": "stream",
          "name": "stdout",
          "text": [
            "Requirement already satisfied: wheel in /usr/local/lib/python3.11/dist-packages (0.45.1)\n",
            "Requirement already satisfied: hyfetch in /usr/local/lib/python3.11/dist-packages (1.99.0)\n",
            "\u001b]11;?\u001b\\\u001b[2J\u001b[H\n",
            "Welcome to \u001b[1m\u001b[38;5;14mhyfetch\u001b[39m\u001b[22m Let's set up some colors first.\u001b[0m\n",
            "\n",
            "\u001b[38;5;9mWarning: Your terminal is too small (0 * 0). \n",
            "Please resize it to at least (90 * 30) for better experience.\u001b[0m\n",
            "Press enter to ignore...\u001b[2J\u001b[H\n",
            "Welcome to \u001b[1m\u001b[38;5;14mhyfetch\u001b[39m\u001b[22m Let's set up some colors first.\u001b[0m\n",
            "\n",
            "\u001b[38;5;15m\u001b[0m\n",
            "\u001b[38;5;15m\u001b[0m\n",
            "\n",
            "\u001b[38;5;10m1. Which \u001b[38;5;14mcolor system \u001b[38;5;10mdo you want to use?\u001b[0m\n",
            "(If you can't see colors under \"RGB Color Testing\", please choose 8bit)\u001b[0m\n",
            "\n",
            "Your choice? (8bit|\u001b[1m\u001b[4mrgb\u001b[22m\u001b[24m)\u001b[0m\n",
            "> Traceback (most recent call last):\n",
            "  File \"/usr/local/bin/hyfetch\", line 8, in <module>\n",
            "    sys.exit(run())\n",
            "             ^^^^^\n",
            "  File \"/usr/local/lib/python3.11/dist-packages/hyfetch/main.py\", line 412, in run\n",
            "    config = create_config() if args.config else check_config(args.config_file)\n",
            "                                                 ^^^^^^^^^^^^^^^^^^^^^^^^^^^^^^\n",
            "  File \"/usr/local/lib/python3.11/dist-packages/hyfetch/main.py\", line 36, in check_config\n",
            "    return create_config()\n",
            "           ^^^^^^^^^^^^^^^\n",
            "  File \"/usr/local/lib/python3.11/dist-packages/hyfetch/main.py\", line 105, in create_config\n",
            "    color_system, ttl = select_color_system()\n",
            "                        ^^^^^^^^^^^^^^^^^^^^^\n",
            "  File \"/usr/local/lib/python3.11/dist-packages/hyfetch/main.py\", line 102, in select_color_system\n",
            "    return literal_input('Your choice?', ['8bit', 'rgb'], 'rgb'), 'Selected color mode'\n",
            "           ^^^^^^^^^^^^^^^^^^^^^^^^^^^^^^^^^^^^^^^^^^^^^^^^^^^^^\n",
            "  File \"/usr/local/lib/python3.11/dist-packages/hyfetch/neofetch_util.py\", line 61, in literal_input\n",
            "    selection = input('> ').lower() or default\n",
            "                ^^^^^^^^^^^\n",
            "KeyboardInterrupt\n",
            "^C\n"
          ]
        }
      ]
    }
  ]
}